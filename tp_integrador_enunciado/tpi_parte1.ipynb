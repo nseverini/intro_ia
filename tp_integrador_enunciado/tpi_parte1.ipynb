{
  "cells": [
    {
      "attachments": {},
      "cell_type": "markdown",
      "id": "07289bb0",
      "metadata": {},
      "source": [
        "# Trabajo integrador - Parte 1\n",
        "## Python y Numpy\n",
        "\n",
        "**Nombre**: Nahuel Severini"
      ]
    },
    {
      "cell_type": "code",
      "execution_count": 1,
      "id": "aaf94e0a",
      "metadata": {
        "id": "aaf94e0a"
      },
      "outputs": [],
      "source": [
        "import numpy as np"
      ]
    },
    {
      "attachments": {},
      "cell_type": "markdown",
      "id": "0ffe9554",
      "metadata": {},
      "source": [
        "## Ejercicio 1\n",
        "\n",
        "Dada una matriz en formato *numpy array*, donde cada fila de la matriz representa un vector matemático, se requiere computar las normas $l_0$, $l_1$, $l_2$, $l_{\\infty}$, según la siguientes definiciones:\n",
        "\n",
        "\\begin{equation}\n",
        "    ||\\mathbf{x}||^{p} = \\bigg(\\sum_{j=1}^{n}{|x_i|^p}\\bigg)^{\\frac{1}{p}}\n",
        "\\end{equation}\n",
        "\n",
        "con los casos especiales para $p=0$ y $p=\\infty$ siendo:\n",
        "\n",
        "\\begin{equation}\n",
        "    \\begin{array}{rcl}\n",
        "        ||\\mathbf{x}||_0 & = & \\bigg(\\sum_{j=1 \\wedge x_j != 0}{|x_i|}\\bigg)\\\\\n",
        "        ||\\mathbf{x}||_{\\infty} & = & \\max_{i}{|x_i|}\\\\\n",
        "    \\end{array}\n",
        "\\end{equation}"
      ]
    },
    {
      "cell_type": "code",
      "execution_count": 2,
      "id": "0bdb0ee3",
      "metadata": {},
      "outputs": [
        {
          "name": "stdout",
          "output_type": "stream",
          "text": [
            "Matrix:\n",
            " [[ 0 -1  2]\n",
            " [ 3  4  5]\n",
            " [ 6  7  8]] \n",
            "\n",
            "Norm L0:  [ 3 12 21]\n",
            "Norm L1:  [ 3. 12. 21.]\n",
            "Norm L2:  [ 2.23606798  7.07106781 12.20655562]\n",
            "Norm L infinity:  [2 5 8]\n"
          ]
        }
      ],
      "source": [
        "def calculate_norm(matrix: np.ndarray, ord: int) -> np.ndarray:\n",
        "    if ord == 0:\n",
        "        return np.sum(np.absolute(matrix), axis=1)\n",
        "    elif ord == np.inf:\n",
        "        return np.max(np.absolute(matrix), axis=1)\n",
        "    else:\n",
        "        return np.sum(np.absolute(matrix) ** ord, axis=1) ** (1/ord)\n",
        "    \n",
        "matrix = np.array([[0, -1, 2], [3, 4, 5], [6, 7, 8]])\n",
        "\n",
        "print(\"Matrix:\\n\", matrix, \"\\n\")\n",
        "\n",
        "print(\"Norm L0: \", calculate_norm(matrix, 0))\n",
        "print(\"Norm L1: \", calculate_norm(matrix, 1))\n",
        "print(\"Norm L2: \", calculate_norm(matrix, 2))\n",
        "print(\"Norm L infinity: \", calculate_norm(matrix, np.inf))\n"
      ]
    },
    {
      "attachments": {},
      "cell_type": "markdown",
      "id": "dd66d862",
      "metadata": {},
      "source": [
        "## Ejercicio 2\n",
        "\n",
        "En clasificación contamos con dos arreglos, la “verdad” y la “predicción”. Cada elemento de los arreglos pueden tomar dos valores, “True” (representado por 1) y “False” (representado por 0). Entonces podemos definir 4 variables:\n",
        "\n",
        "* True Positive (TP): El valor verdadero es 1 y el valor predicho es 1\n",
        "* True Negative (TN): El valor verdadero es 0 y el valor predicho es 0\n",
        "* False Positive (FP): El valor verdadero es 0 y el valor predicho es 1\n",
        "* False Negative (FN): El valor verdadero es 1 y el valor predicho es 0\n",
        "\n",
        "A partir de esto definimos:\n",
        "\n",
        "* Precision = TP / (TP + FP)\n",
        "* Recall = TP / (TP + FN)\n",
        "* Accuracy = (TP + TN) / (TP + TN + FP + FN)\n",
        " \n",
        "Calcular las 3 métricas con Numpy y operaciones vectorizadas."
      ]
    },
    {
      "cell_type": "code",
      "execution_count": 3,
      "id": "794dcd58",
      "metadata": {},
      "outputs": [
        {
          "name": "stdout",
          "output_type": "stream",
          "text": [
            "Precision:  0.5\n",
            "Recall:  0.5\n",
            "Accuracy:  0.4\n"
          ]
        }
      ],
      "source": [
        "truth = np.array([1,1,0,1,1,1,0,0,0,1])\n",
        "prediction = np.array([1,1,1,1,0,0,1,1,0,0])\n",
        "\n",
        "def get_true_positive(a: np.ndarray, b: np.ndarray) -> int:\n",
        "    arr = np.logical_and(a,b)\n",
        "    return np.count_nonzero(arr)\n",
        "\n",
        "def get_true_negative(a: np.ndarray, b: np.ndarray) -> int:\n",
        "    arr = np.logical_or(a,b)\n",
        "    return np.count_nonzero(np.invert(arr))\n",
        "\n",
        "def get_false_positive(a: np.ndarray, b: np.ndarray) -> int:\n",
        "    arr = np.logical_xor(a,b)\n",
        "    arr = np.logical_and(arr,b)\n",
        "    return np.count_nonzero(arr)\n",
        "\n",
        "def get_false_negative(a: np.ndarray, b: np.ndarray) -> int:\n",
        "    arr = np.logical_xor(a,b)\n",
        "    arr = np.logical_and(arr,a)\n",
        "    return np.count_nonzero(arr)\n",
        "\n",
        "TP = get_true_positive(truth, prediction)\n",
        "TN = get_true_negative(truth, prediction)\n",
        "FP = get_false_positive(truth, prediction)\n",
        "FN = get_false_negative(truth, prediction)\n",
        "\n",
        "print(\"Precision: \", TP/(TP+FP))\n",
        "print(\"Recall: \", TP/(TP+FN))\n",
        "print(\"Accuracy: \", (TP+TN)/(TP+TN+FP+FN))"
      ]
    },
    {
      "attachments": {},
      "cell_type": "markdown",
      "id": "d0ac6f6f",
      "metadata": {},
      "source": [
        "## Ejercicio 3\n",
        "\n",
        "Crear una función que separe los datos en train-validation-test. Debe recibir de parametros:\n",
        "\n",
        "- X: Array o Dataframe que contiene los datos de entrada del sistema.\n",
        "- y: Array o Dataframe que contiene la(s) variable(s) target del problema.\n",
        "- train_percentage: _float_ el porcentaje de training.\n",
        "- test_percentage: _float_ el porcentaje de testing.\n",
        "- val_percentage: _float_ el porcentaje de validación.\n",
        "- shuffle: _bool_ determina si el split debe hacerse de manera random o no.\n",
        "\n",
        "Hints: \n",
        "\n",
        "* Usar Indexing y slicing\n",
        "* Usar np.random.[...]"
      ]
    },
    {
      "cell_type": "code",
      "execution_count": 80,
      "id": "ca85fc66",
      "metadata": {},
      "outputs": [
        {
          "name": "stdout",
          "output_type": "stream",
          "text": [
            "Split function executed without shuffle:\n",
            " (array([0, 1, 2, 3, 4, 5, 6]), array([7]), array([8, 9]), array([0, 1, 1, 1, 4, 5, 1]), array([7]), array([1, 1]))\n",
            "Split function executed with shuffle:\n",
            " (array([8, 1, 5, 0, 7, 2, 9]), array([4]), array([3, 6]), array([1, 1, 5, 0, 7, 1, 1]), array([4]), array([1, 1]))\n"
          ]
        }
      ],
      "source": [
        "def split(X_input,\n",
        "          Y_input,\n",
        "          train_size=0.7,\n",
        "          val_size=0.15,\n",
        "          test_size=0.15,\n",
        "          random_state=42,\n",
        "          shuffle=True):\n",
        "    \n",
        "        if shuffle:\n",
        "            np.random.seed(random_state)\n",
        "            shuffled_indices = np.random.permutation(len(X_input))\n",
        "        else:\n",
        "            shuffled_indices = np.arange(len(X_input))\n",
        "        \n",
        "        total_samples = len(X_input)\n",
        "        train_end = int(total_samples * train_size)\n",
        "        val_end = int(total_samples * (train_size + val_size))\n",
        "        \n",
        "        train_indices = shuffled_indices[:train_end]\n",
        "        val_indices = shuffled_indices[train_end:val_end]\n",
        "        test_indices = shuffled_indices[val_end:]\n",
        "        \n",
        "        X_train = X_input[train_indices]\n",
        "        Y_train = Y_input[train_indices]\n",
        "        \n",
        "        X_val = X_input[val_indices]\n",
        "        Y_val = Y_input[val_indices]\n",
        "        \n",
        "        X_test = X_input[test_indices]\n",
        "        Y_test = Y_input[test_indices]\n",
        "        \n",
        "        return X_train, X_val, X_test, Y_train, Y_val, Y_test\n",
        "\n",
        "\n",
        "array_x = np.array([0, 1, 2, 3, 4, 5, 6, 7, 8, 9])\n",
        "array_y = np.array([0, 1, 1, 1, 4, 5, 1, 7, 1, 1])\n",
        "\n",
        "print(\"Split function executed without shuffle:\\n\", split(array_x, array_y, shuffle=False))\n",
        "print(\"Split function executed with shuffle:\\n\", split(array_x, array_y))"
      ]
    }
  ],
  "metadata": {
    "colab": {
      "collapsed_sections": [],
      "name": "Practica_clase_3.ipynb",
      "provenance": []
    },
    "kernelspec": {
      "display_name": "Python 3.10.7 64-bit",
      "language": "python",
      "name": "python3"
    },
    "language_info": {
      "codemirror_mode": {
        "name": "ipython",
        "version": 3
      },
      "file_extension": ".py",
      "mimetype": "text/x-python",
      "name": "python",
      "nbconvert_exporter": "python",
      "pygments_lexer": "ipython3",
      "version": "3.11.3"
    },
    "vscode": {
      "interpreter": {
        "hash": "b5c22da4a52024410f64f9c5a5e2b4ffeeb944a5ed00e8825a42174cdab30315"
      }
    }
  },
  "nbformat": 4,
  "nbformat_minor": 5
}
